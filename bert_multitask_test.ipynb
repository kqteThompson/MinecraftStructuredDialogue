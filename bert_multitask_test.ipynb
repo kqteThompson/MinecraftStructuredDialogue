{
 "cells": [
  {
   "cell_type": "code",
   "execution_count": 45,
   "metadata": {},
   "outputs": [],
   "source": [
    "import torch\n",
    "import torchvision\n",
    "import torchaudio"
   ]
  },
  {
   "cell_type": "code",
   "execution_count": 96,
   "metadata": {},
   "outputs": [],
   "source": [
    " torch.cuda.empty_cache()"
   ]
  },
  {
   "cell_type": "code",
   "execution_count": 47,
   "metadata": {},
   "outputs": [
    {
     "data": {
      "text/plain": [
       "'2.1.1+cu121'"
      ]
     },
     "execution_count": 47,
     "metadata": {},
     "output_type": "execute_result"
    }
   ],
   "source": [
    "torch.__version__"
   ]
  },
  {
   "cell_type": "code",
   "execution_count": 48,
   "metadata": {},
   "outputs": [
    {
     "data": {
      "text/plain": [
       "True"
      ]
     },
     "execution_count": 48,
     "metadata": {},
     "output_type": "execute_result"
    }
   ],
   "source": [
    "#check for GPU\n",
    "torch.cuda.is_available()\n",
    "# device = torch.device('cuda')\n",
    "# device"
   ]
  },
  {
   "cell_type": "code",
   "execution_count": 49,
   "metadata": {},
   "outputs": [],
   "source": [
    "import numpy as np\n",
    "import json\n",
    "import random\n",
    "import time\n",
    "from transformers import BertTokenizer"
   ]
  },
  {
   "cell_type": "code",
   "execution_count": 50,
   "metadata": {},
   "outputs": [],
   "source": [
    "map_relations = {'Comment':0, 'Contrast':1, 'Correction':2, 'Question-answer_pair':3, 'Acknowledgement':4,'Elaboration':5,\n",
    "                 'Clarification_question':6, 'Conditional':7, 'Continuation':8, 'Result':9, 'Explanation':10, 'Q-Elab':11,\n",
    "                 'Alternation':12, 'Narration':13, 'Confirmation_question':14, 'Sequence':15, 'Break':16}"
   ]
  },
  {
   "cell_type": "code",
   "execution_count": 51,
   "metadata": {},
   "outputs": [],
   "source": [
    "reverse_relations = {0:'Comment', 1:'Contrast', 2:'Correction', 3:'Question-answer_pair', 4:'Acknowledgement',5:'Elaboration',\n",
    "                 6:'Clarification_question', 7:'Conditional', 8:'Continuation', 9:'Result', 10:'Explanation', 11:'Q-Elab',\n",
    "                 12:'Alternation', 13:'Narration', 14:'Confirmation_question', 15:'Sequence', 16:'Break'}"
   ]
  },
  {
   "cell_type": "code",
   "execution_count": 52,
   "metadata": {},
   "outputs": [],
   "source": [
    "home=%pwd\n",
    "# filename = home + '/data/TEST_102_bert.json'\n",
    "filename = home + '/data/DEV_32_bert.json'"
   ]
  },
  {
   "cell_type": "code",
   "execution_count": 53,
   "metadata": {},
   "outputs": [],
   "source": [
    "from utils import load_data, input_format, position_ids_compute, tokenize\n",
    "from bert_format import undersample, format_time, flat_accuracy"
   ]
  },
  {
   "cell_type": "code",
   "execution_count": 54,
   "metadata": {},
   "outputs": [
    {
     "name": "stdout",
     "output_type": "stream",
     "text": [
      "Loading data: /home/kate/LREC/data/DEV_32_bert.json\n",
      "32 dialogs, 1860 edus, 2234 relations, 8 backward relations\n",
      "398 edus have multiple parents\n"
     ]
    }
   ],
   "source": [
    "test_data = load_data(filename, map_relations)"
   ]
  },
  {
   "cell_type": "code",
   "execution_count": 55,
   "metadata": {},
   "outputs": [],
   "source": [
    "tokenizer = BertTokenizer.from_pretrained('bert-base-cased', use_fast=True)"
   ]
  },
  {
   "cell_type": "code",
   "execution_count": 56,
   "metadata": {},
   "outputs": [],
   "source": [
    "put = ['1','0']\n",
    "colors = ['r', 'b', 'g', 'o', 'y', 'p']\n",
    "listx = ['b', 'c', 'd', 'f', 'g', 'h', 'j', 'k', 'l', 'm', 'n']\n",
    "listy = ['0', '1', '2', '3', '4', '5', '6', '7', '8']\n",
    "listz = ['a', 'e', 'i', 'o', 'u', 'p', 'q', 'r', 'x', 'y', 'z']"
   ]
  },
  {
   "cell_type": "code",
   "execution_count": 57,
   "metadata": {},
   "outputs": [],
   "source": [
    "coord_tokens = [''.join([s, t, i, j, k]) for s in put\n",
    "                for t in colors\n",
    "                for i in listx\n",
    "                for j in listy\n",
    "                for k in listz]"
   ]
  },
  {
   "cell_type": "code",
   "execution_count": 58,
   "metadata": {},
   "outputs": [
    {
     "data": {
      "text/plain": [
       "13068"
      ]
     },
     "execution_count": 58,
     "metadata": {},
     "output_type": "execute_result"
    }
   ],
   "source": [
    "tokenizer.add_tokens(coord_tokens)"
   ]
  },
  {
   "cell_type": "code",
   "execution_count": 59,
   "metadata": {},
   "outputs": [
    {
     "data": {
      "text/plain": [
       "42064"
      ]
     },
     "execution_count": 59,
     "metadata": {},
     "output_type": "execute_result"
    }
   ],
   "source": [
    "len(tokenizer)"
   ]
  },
  {
   "cell_type": "code",
   "execution_count": 60,
   "metadata": {},
   "outputs": [],
   "source": [
    "device = torch.device('cuda')"
   ]
  },
  {
   "cell_type": "code",
   "execution_count": 61,
   "metadata": {},
   "outputs": [
    {
     "name": "stdout",
     "output_type": "stream",
     "text": [
      "relation types only...\n",
      "2202 relations/candidates\n"
     ]
    }
   ],
   "source": [
    "inputs, labels_input, raw = input_format(test_data, 10, relations=True)"
   ]
  },
  {
   "cell_type": "code",
   "execution_count": 62,
   "metadata": {},
   "outputs": [
    {
     "data": {
      "text/plain": [
       "[[0, 0, 1, 8], [0, 1, 2, 8], [0, 2, 3, 4]]"
      ]
     },
     "execution_count": 62,
     "metadata": {},
     "output_type": "execute_result"
    }
   ],
   "source": [
    "labels_input[:3]"
   ]
  },
  {
   "cell_type": "code",
   "execution_count": 63,
   "metadata": {},
   "outputs": [],
   "source": [
    "num_labels = len(set([r[3] for r in labels_input]))"
   ]
  },
  {
   "cell_type": "code",
   "execution_count": 64,
   "metadata": {},
   "outputs": [],
   "source": [
    "num_labels = 17"
   ]
  },
  {
   "cell_type": "code",
   "execution_count": 65,
   "metadata": {},
   "outputs": [],
   "source": [
    "batch_tokenized = tokenizer(inputs, return_tensors=\"pt\", padding=True, truncation=True, add_special_tokens=True)"
   ]
  },
  {
   "cell_type": "code",
   "execution_count": 66,
   "metadata": {},
   "outputs": [],
   "source": [
    "input_ids = batch_tokenized[\"input_ids\"].to(device) # list of token ids of dialogs in batch\n",
    "attention_masks = batch_tokenized[\"attention_mask\"].to(device)\n",
    "token_type_ids = batch_tokenized[\"token_type_ids\"].to(device)"
   ]
  },
  {
   "cell_type": "code",
   "execution_count": 67,
   "metadata": {},
   "outputs": [],
   "source": [
    "labels = [label[3] for label in list(labels_input)]\n",
    "labels = torch.tensor(labels)\n",
    "labels_relation = torch.tensor(labels_input)"
   ]
  },
  {
   "cell_type": "code",
   "execution_count": 68,
   "metadata": {},
   "outputs": [],
   "source": [
    "position_ids = position_ids_compute(tokenizer, input_ids, raw, labels_relation)"
   ]
  },
  {
   "cell_type": "code",
   "execution_count": 69,
   "metadata": {},
   "outputs": [],
   "source": [
    "position_ids = torch.tensor(position_ids)"
   ]
  },
  {
   "cell_type": "code",
   "execution_count": 70,
   "metadata": {},
   "outputs": [],
   "source": [
    "task_ids = torch.Tensor([1 for i in range(len(input_ids))])"
   ]
  },
  {
   "cell_type": "code",
   "execution_count": 71,
   "metadata": {},
   "outputs": [],
   "source": [
    "from multitask_format import MultiTaskModel, Task"
   ]
  },
  {
   "cell_type": "code",
   "execution_count": 72,
   "metadata": {},
   "outputs": [],
   "source": [
    "model_path = home + '/models/'"
   ]
  },
  {
   "cell_type": "code",
   "execution_count": 73,
   "metadata": {},
   "outputs": [
    {
     "name": "stdout",
     "output_type": "stream",
     "text": [
      "/home/kate/LREC/models/multitask_d10.pth\n",
      "loaded\n"
     ]
    }
   ],
   "source": [
    "attach_task = Task(id = 0, name = 'attach prediction', type = \"seq_classification\", num_labels=2)\n",
    "relation_task = Task(id = 1, name = 'relation prediction', type = \"seq_classification\", num_labels = num_labels)\n",
    "tasks = [attach_task, relation_task]\n",
    "\n",
    "model = MultiTaskModel('bert-base-cased', tasks, len(tokenizer))\n",
    "output_model = model_path + 'multitask_d10.pth'\n",
    "print(output_model)\n",
    "checkpoint = torch.load(output_model, map_location='cuda')\n",
    "model.load_state_dict(checkpoint['model_state_dict'])\n",
    "model.to(device)\n",
    "print('loaded')"
   ]
  },
  {
   "cell_type": "markdown",
   "metadata": {},
   "source": [
    "Prediction on linear predicted attachments"
   ]
  },
  {
   "cell_type": "code",
   "execution_count": 74,
   "metadata": {},
   "outputs": [],
   "source": [
    "import pickle\n",
    "data_path = home + '/pickles/'"
   ]
  },
  {
   "cell_type": "code",
   "execution_count": 75,
   "metadata": {},
   "outputs": [
    {
     "name": "stdout",
     "output_type": "stream",
     "text": [
      "relation types only...\n",
      "2021 relations/candidates\n"
     ]
    }
   ],
   "source": [
    "with open(data_path + 'MT_input_d10_DEV.pkl', 'rb') as f:\n",
    "    test_pred = pickle.load(f)\n",
    "\n",
    "input_ids, labels, raw = input_format(test_data, 10, relations=True, attach_preds=test_pred)\n",
    "batch_tokenized = tokenizer(input_ids, return_tensors=\"pt\", padding=True, truncation=True, add_special_tokens=True)\n",
    "input_ids = batch_tokenized[\"input_ids\"].to(device) # list of token ids of dialogs in batch\n",
    "attention_masks = batch_tokenized[\"attention_mask\"].to(device)\n",
    "token_type_ids = batch_tokenized[\"token_type_ids\"].to(device)\n",
    "\n",
    "position_ids = position_ids_compute(tokenizer, input_ids, raw, labels)\n",
    "position_ids = torch.tensor(position_ids)\n",
    "\n",
    "task_ids = torch.Tensor([1 for i in range(len(input_ids))])"
   ]
  },
  {
   "cell_type": "code",
   "execution_count": 76,
   "metadata": {},
   "outputs": [
    {
     "data": {
      "text/plain": [
       "32"
      ]
     },
     "execution_count": 76,
     "metadata": {},
     "output_type": "execute_result"
    }
   ],
   "source": [
    "len(test_pred)"
   ]
  },
  {
   "cell_type": "code",
   "execution_count": 77,
   "metadata": {},
   "outputs": [],
   "source": [
    "from torch.utils.data import TensorDataset, DataLoader, SequentialSampler"
   ]
  },
  {
   "cell_type": "code",
   "execution_count": 78,
   "metadata": {},
   "outputs": [
    {
     "name": "stdout",
     "output_type": "stream",
     "text": [
      "    DONE.\n"
     ]
    }
   ],
   "source": [
    "prediction_data = TensorDataset(input_ids, attention_masks, token_type_ids, position_ids, task_ids)\n",
    "prediction_sampler = SequentialSampler(prediction_data)\n",
    "prediction_dataloader = DataLoader(prediction_data, sampler=prediction_sampler, batch_size=32)\n",
    "\n",
    "\n",
    "model.eval()\n",
    "\n",
    "predictions , true_labels = [], []\n",
    "\n",
    "for batch in prediction_dataloader:\n",
    "    batch = tuple(t.to(device) for t in batch)\n",
    "\n",
    "    b_input_ids, b_input_mask, b_token_types, b_position_ids, b_task_ids = batch\n",
    "\n",
    "    with torch.no_grad():\n",
    "        outputs, embed = model(b_input_ids,\n",
    "                     token_type_ids=b_token_types,\n",
    "                     attention_mask=b_input_mask,\n",
    "                     position_ids = b_position_ids,\n",
    "                     task_ids = b_task_ids)\n",
    "    logits = outputs[0]\n",
    "    logits = logits.detach().cpu().numpy()\n",
    "\n",
    "    predictions.append(logits)\n",
    "\n",
    "print('    DONE.')\n",
    "\n",
    "flat_prediction = np.concatenate(predictions, axis=0)\n",
    "flat_predictions = np.argmax(flat_prediction, axis=1).flatten()"
   ]
  },
  {
   "cell_type": "code",
   "execution_count": 79,
   "metadata": {},
   "outputs": [
    {
     "data": {
      "text/plain": [
       "array([8, 5, 4, 0, 3, 4, 2, 1, 2, 9])"
      ]
     },
     "execution_count": 79,
     "metadata": {},
     "output_type": "execute_result"
    }
   ],
   "source": [
    "flat_predictions[:10]"
   ]
  },
  {
   "cell_type": "code",
   "execution_count": 80,
   "metadata": {},
   "outputs": [],
   "source": [
    "#add predictions to test pred attachments\n",
    "#make sure to keep all gold relations, even if not in predicted\n",
    "preds = []\n",
    "gold = []\n",
    "i = 0\n",
    "for n, g in enumerate(test_pred):\n",
    "  pred_tmp = []\n",
    "  gold_tmp = []\n",
    "  for rel in test_data[n]['relations']:\n",
    "    # if [rel['x'], rel['y']] in g:\n",
    "    #   gold_tmp.append([rel['x'], rel['y'], rel['type']])\n",
    "    if abs(rel['y']-rel['x']) < 11:\n",
    "      gold_tmp.append([rel['x'], rel['y'], rel['type']])\n",
    "  for p in g:\n",
    "    f = flat_predictions[i]\n",
    "    i += 1\n",
    "    pred_tmp.append([p[0], p[1], f])\n",
    "  gold.append(gold_tmp)\n",
    "  preds.append(pred_tmp)"
   ]
  },
  {
   "cell_type": "code",
   "execution_count": 81,
   "metadata": {},
   "outputs": [
    {
     "data": {
      "text/plain": [
       "61"
      ]
     },
     "execution_count": 81,
     "metadata": {},
     "output_type": "execute_result"
    }
   ],
   "source": [
    "len(test_pred[0])"
   ]
  },
  {
   "cell_type": "code",
   "execution_count": 82,
   "metadata": {},
   "outputs": [
    {
     "data": {
      "text/plain": [
       "(32, 32)"
      ]
     },
     "execution_count": 82,
     "metadata": {},
     "output_type": "execute_result"
    }
   ],
   "source": [
    "#now preds is a list of lists of all the predicted relations on predicted attachments\n",
    "#and gold is a list of lists of all *gold* relations on predicted attachments\n",
    "len(preds), len(gold)"
   ]
  },
  {
   "cell_type": "code",
   "execution_count": 83,
   "metadata": {},
   "outputs": [
    {
     "data": {
      "text/plain": [
       "(61, 62)"
      ]
     },
     "execution_count": 83,
     "metadata": {},
     "output_type": "execute_result"
    }
   ],
   "source": [
    "len(preds[0]), len(gold[0])"
   ]
  },
  {
   "cell_type": "code",
   "execution_count": 84,
   "metadata": {},
   "outputs": [
    {
     "name": "stdout",
     "output_type": "stream",
     "text": [
      "10 false pos attachments in game 0\n",
      "7 false pos attachments in game 1\n",
      "6 false pos attachments in game 2\n",
      "9 false pos attachments in game 3\n",
      "17 false pos attachments in game 4\n",
      "9 false pos attachments in game 5\n",
      "14 false pos attachments in game 6\n",
      "7 false pos attachments in game 7\n",
      "3 false pos attachments in game 8\n",
      "5 false pos attachments in game 9\n",
      "9 false pos attachments in game 10\n",
      "19 false pos attachments in game 11\n",
      "22 false pos attachments in game 12\n",
      "13 false pos attachments in game 13\n",
      "11 false pos attachments in game 14\n",
      "5 false pos attachments in game 15\n",
      "2 false pos attachments in game 16\n",
      "17 false pos attachments in game 17\n",
      "4 false pos attachments in game 18\n",
      "9 false pos attachments in game 19\n",
      "20 false pos attachments in game 20\n",
      "6 false pos attachments in game 21\n",
      "10 false pos attachments in game 22\n",
      "9 false pos attachments in game 23\n",
      "4 false pos attachments in game 24\n",
      "13 false pos attachments in game 25\n",
      "5 false pos attachments in game 26\n",
      "10 false pos attachments in game 27\n",
      "4 false pos attachments in game 28\n",
      "10 false pos attachments in game 29\n",
      "7 false pos attachments in game 30\n",
      "6 false pos attachments in game 31\n"
     ]
    }
   ],
   "source": [
    "#now we have to put them together so that in one place we have\n",
    "# dialogue index | x | y | gold relation (16 if not there)|pred relation\n",
    "comparisons = []\n",
    "for game in list(range(len(gold))):\n",
    "  goldgame = gold[game]\n",
    "  predgame = preds[game]\n",
    "  gold_attach = {(g[0], g[1]): g[2] for g in goldgame}\n",
    "  pred_attach = {(g[0], g[1]) : g[2] for g in predgame}\n",
    "  true_pos = [e for e in gold_attach.keys() if e in pred_attach.keys()]\n",
    "  false_pos = [e for e in pred_attach.keys() if e not in gold_attach.keys()]\n",
    "  false_neg = [e for e in gold_attach.keys() if e not in pred_attach.keys()]\n",
    "  print('{} false pos attachments in game {}'.format(len(false_pos), game))\n",
    "  for a in true_pos:\n",
    "    comparisons.append([game, a[0], a[1], gold_attach[a], pred_attach[a]])\n",
    "  for b in false_pos:\n",
    "    comparisons.append([game, b[0], b[1], 16, pred_attach[b]])\n",
    "  for c in false_neg:\n",
    "    comparisons.append([game, c[0], c[1], gold_attach[c], 16])"
   ]
  },
  {
   "cell_type": "code",
   "execution_count": 85,
   "metadata": {},
   "outputs": [],
   "source": [
    "with open(home + '/pickles/' + 'full_scores_multi_d10_DEV.pkl', 'wb') as f:\n",
    "    pickle.dump(comparisons, f)"
   ]
  },
  {
   "cell_type": "code",
   "execution_count": 86,
   "metadata": {},
   "outputs": [],
   "source": [
    "pos_comparisons = [c for c in comparisons if c[3] != 16 and c[4] != 16]"
   ]
  },
  {
   "cell_type": "code",
   "execution_count": 44,
   "metadata": {},
   "outputs": [
    {
     "data": {
      "text/plain": [
       "[[0, 0, 1, 0, 4], [0, 0, 2, 8, 8]]"
      ]
     },
     "execution_count": 44,
     "metadata": {},
     "output_type": "execute_result"
    }
   ],
   "source": [
    "comparisons[:2]"
   ]
  },
  {
   "cell_type": "code",
   "execution_count": 87,
   "metadata": {},
   "outputs": [],
   "source": [
    "correct = [i[3] for i in pos_comparisons]\n",
    "predicted = [i[4] for i in pos_comparisons]"
   ]
  },
  {
   "cell_type": "code",
   "execution_count": 88,
   "metadata": {},
   "outputs": [],
   "source": [
    "corr_ = [reverse_relations[i[3]] for i in pos_comparisons]\n",
    "pred_ = [reverse_relations[i[4]] for i in pos_comparisons]"
   ]
  },
  {
   "cell_type": "code",
   "execution_count": 89,
   "metadata": {},
   "outputs": [],
   "source": [
    "from sklearn.metrics import classification_report, ConfusionMatrixDisplay, confusion_matrix"
   ]
  },
  {
   "cell_type": "code",
   "execution_count": 90,
   "metadata": {},
   "outputs": [
    {
     "name": "stdout",
     "output_type": "stream",
     "text": [
      "                        precision    recall  f1-score   support\n",
      "\n",
      "       Acknowledgement       0.94      0.97      0.96       271\n",
      "           Alternation       1.00      1.00      1.00         4\n",
      "Clarification_question       0.95      0.83      0.88        46\n",
      "               Comment       0.74      0.60      0.66        67\n",
      "           Conditional       0.67      0.80      0.73         5\n",
      " Confirmation_question       0.96      0.96      0.96        52\n",
      "          Continuation       0.61      0.51      0.55       104\n",
      "              Contrast       0.83      0.86      0.85        29\n",
      "            Correction       0.71      0.65      0.68        52\n",
      "           Elaboration       0.81      0.87      0.84       261\n",
      "           Explanation       0.00      0.00      0.00         5\n",
      "             Narration       0.92      0.96      0.94       136\n",
      "                Q-Elab       0.33      0.80      0.47         5\n",
      "  Question-answer_pair       0.96      0.97      0.96        88\n",
      "                Result       0.97      0.98      0.98       592\n",
      "              Sequence       0.00      0.00      0.00         2\n",
      "\n",
      "              accuracy                           0.90      1719\n",
      "             macro avg       0.71      0.74      0.72      1719\n",
      "          weighted avg       0.89      0.90      0.89      1719\n",
      "\n"
     ]
    },
    {
     "name": "stderr",
     "output_type": "stream",
     "text": [
      "/home/kate/miniconda3/envs/bert_env/lib/python3.10/site-packages/sklearn/metrics/_classification.py:1509: UndefinedMetricWarning: Precision is ill-defined and being set to 0.0 in labels with no predicted samples. Use `zero_division` parameter to control this behavior.\n",
      "  _warn_prf(average, modifier, f\"{metric.capitalize()} is\", len(result))\n",
      "/home/kate/miniconda3/envs/bert_env/lib/python3.10/site-packages/sklearn/metrics/_classification.py:1509: UndefinedMetricWarning: Precision is ill-defined and being set to 0.0 in labels with no predicted samples. Use `zero_division` parameter to control this behavior.\n",
      "  _warn_prf(average, modifier, f\"{metric.capitalize()} is\", len(result))\n",
      "/home/kate/miniconda3/envs/bert_env/lib/python3.10/site-packages/sklearn/metrics/_classification.py:1509: UndefinedMetricWarning: Precision is ill-defined and being set to 0.0 in labels with no predicted samples. Use `zero_division` parameter to control this behavior.\n",
      "  _warn_prf(average, modifier, f\"{metric.capitalize()} is\", len(result))\n"
     ]
    }
   ],
   "source": [
    "print(classification_report(corr_,pred_))"
   ]
  },
  {
   "cell_type": "code",
   "execution_count": 91,
   "metadata": {},
   "outputs": [
    {
     "data": {
      "text/plain": [
       "<sklearn.metrics._plot.confusion_matrix.ConfusionMatrixDisplay at 0x7f8c1fe9a710>"
      ]
     },
     "execution_count": 91,
     "metadata": {},
     "output_type": "execute_result"
    },
    {
     "data": {
      "image/png": "[encoded data removed]",
      "text/plain": [
       "<Figure size 640x480 with 2 Axes>"
      ]
     },
     "metadata": {},
     "output_type": "display_data"
    }
   ],
   "source": [
    "cm = confusion_matrix(correct,predicted)\n",
    "ConfusionMatrixDisplay(cm).plot()"
   ]
  },
  {
   "cell_type": "code",
   "execution_count": 92,
   "metadata": {},
   "outputs": [],
   "source": [
    "#all comparisons\n",
    "correct = [i[3] for i in comparisons]\n",
    "predicted = [i[4] for i in comparisons]"
   ]
  },
  {
   "cell_type": "code",
   "execution_count": 93,
   "metadata": {},
   "outputs": [],
   "source": [
    "corr_all = [reverse_relations[i[3]] for i in comparisons]\n",
    "pred_all = [reverse_relations[i[4]] for i in comparisons]"
   ]
  },
  {
   "cell_type": "code",
   "execution_count": 94,
   "metadata": {},
   "outputs": [
    {
     "name": "stdout",
     "output_type": "stream",
     "text": [
      "                        precision    recall  f1-score   support\n",
      "\n",
      "       Acknowledgement       0.85      0.81      0.83       323\n",
      "           Alternation       1.00      1.00      1.00         4\n",
      "                 Break       0.00      0.00      0.00       302\n",
      "Clarification_question       0.64      0.57      0.60        67\n",
      "               Comment       0.67      0.50      0.57        80\n",
      "           Conditional       0.67      0.80      0.73         5\n",
      " Confirmation_question       0.93      0.89      0.91        56\n",
      "          Continuation       0.52      0.41      0.46       129\n",
      "              Contrast       0.81      0.83      0.82        30\n",
      "            Correction       0.36      0.29      0.32       116\n",
      "           Elaboration       0.75      0.81      0.78       282\n",
      "           Explanation       0.00      0.00      0.00         6\n",
      "             Narration       0.61      0.48      0.54       274\n",
      "                Q-Elab       0.25      0.67      0.36         6\n",
      "  Question-answer_pair       0.77      0.75      0.76       114\n",
      "                Result       0.88      0.83      0.85       700\n",
      "              Sequence       0.00      0.00      0.00         4\n",
      "\n",
      "              accuracy                           0.62      2498\n",
      "             macro avg       0.57      0.57      0.56      2498\n",
      "          weighted avg       0.66      0.62      0.64      2498\n",
      "\n"
     ]
    },
    {
     "name": "stderr",
     "output_type": "stream",
     "text": [
      "/home/kate/miniconda3/envs/bert_env/lib/python3.10/site-packages/sklearn/metrics/_classification.py:1509: UndefinedMetricWarning: Precision is ill-defined and being set to 0.0 in labels with no predicted samples. Use `zero_division` parameter to control this behavior.\n",
      "  _warn_prf(average, modifier, f\"{metric.capitalize()} is\", len(result))\n",
      "/home/kate/miniconda3/envs/bert_env/lib/python3.10/site-packages/sklearn/metrics/_classification.py:1509: UndefinedMetricWarning: Precision is ill-defined and being set to 0.0 in labels with no predicted samples. Use `zero_division` parameter to control this behavior.\n",
      "  _warn_prf(average, modifier, f\"{metric.capitalize()} is\", len(result))\n",
      "/home/kate/miniconda3/envs/bert_env/lib/python3.10/site-packages/sklearn/metrics/_classification.py:1509: UndefinedMetricWarning: Precision is ill-defined and being set to 0.0 in labels with no predicted samples. Use `zero_division` parameter to control this behavior.\n",
      "  _warn_prf(average, modifier, f\"{metric.capitalize()} is\", len(result))\n"
     ]
    }
   ],
   "source": [
    "print(classification_report(corr_all,pred_all))"
   ]
  },
  {
   "cell_type": "code",
   "execution_count": 95,
   "metadata": {},
   "outputs": [
    {
     "data": {
      "text/plain": [
       "<sklearn.metrics._plot.confusion_matrix.ConfusionMatrixDisplay at 0x7f8b9c217940>"
      ]
     },
     "execution_count": 95,
     "metadata": {},
     "output_type": "execute_result"
    },
    {
     "data": {
      "image/png": "[encoded data removed]",
      "text/plain": [
       "<Figure size 640x480 with 2 Axes>"
      ]
     },
     "metadata": {},
     "output_type": "display_data"
    }
   ],
   "source": [
    "cm = confusion_matrix(correct,predicted)\n",
    "ConfusionMatrixDisplay(cm).plot()"
   ]
  },
  {
   "cell_type": "markdown",
   "metadata": {},
   "source": [
    "checking out Narration scores"
   ]
  },
  {
   "cell_type": "code",
   "execution_count": 74,
   "metadata": {},
   "outputs": [
    {
     "data": {
      "text/plain": [
       "[[0, 0, 1, 0, 4], [0, 0, 2, 8, 8]]"
      ]
     },
     "execution_count": 74,
     "metadata": {},
     "output_type": "execute_result"
    }
   ],
   "source": [
    "comparisons[:2]"
   ]
  },
  {
   "cell_type": "code",
   "execution_count": 75,
   "metadata": {},
   "outputs": [],
   "source": [
    "correct_narrs = [c for c in comparisons if c[3] == 13 and c[4] ==13]"
   ]
  },
  {
   "cell_type": "code",
   "execution_count": 80,
   "metadata": {},
   "outputs": [
    {
     "data": {
      "text/plain": [
       "242"
      ]
     },
     "execution_count": 80,
     "metadata": {},
     "output_type": "execute_result"
    }
   ],
   "source": [
    "len([i for i in comparisons if i[3] != 13 and i[4] == 13])"
   ]
  },
  {
   "cell_type": "code",
   "execution_count": 77,
   "metadata": {},
   "outputs": [
    {
     "data": {
      "text/plain": [
       "305"
      ]
     },
     "execution_count": 77,
     "metadata": {},
     "output_type": "execute_result"
    }
   ],
   "source": [
    "len(correct_narrs)"
   ]
  },
  {
   "cell_type": "code",
   "execution_count": null,
   "metadata": {},
   "outputs": [],
   "source": []
  }
 ],
 "metadata": {
  "kernelspec": {
   "display_name": "bert_env",
   "language": "python",
   "name": "python3"
  },
  "language_info": {
   "codemirror_mode": {
    "name": "ipython",
    "version": 3
   },
   "file_extension": ".py",
   "mimetype": "text/x-python",
   "name": "python",
   "nbconvert_exporter": "python",
   "pygments_lexer": "ipython3",
   "version": "3.10.12"
  }
 },
 "nbformat": 4,
 "nbformat_minor": 2
}
