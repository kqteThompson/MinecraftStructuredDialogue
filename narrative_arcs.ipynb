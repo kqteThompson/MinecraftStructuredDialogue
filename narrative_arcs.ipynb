{
 "cells": [
  {
   "cell_type": "code",
   "execution_count": 1,
   "id": "b3769551",
   "metadata": {},
   "outputs": [
    {
     "data": {
      "text/plain": [
       "'/home/kate/minecraft_corpus/stats/stats_pickles'"
      ]
     },
     "execution_count": 1,
     "metadata": {},
     "output_type": "execute_result"
    }
   ],
   "source": [
    "pwd"
   ]
  },
  {
   "cell_type": "code",
   "execution_count": 2,
   "id": "16b12bc2",
   "metadata": {},
   "outputs": [],
   "source": [
    "map_relations = {'Comment': 0, 'Contrast': 1, 'Correction': 2, 'Question-answer_pair': 3, 'Parallel': 4, 'Acknowledgement': 5,\n",
    "            'Elaboration': 6, 'Clarification_question': 7, 'Conditional': 8, 'Continuation': 9, 'Result': 10, 'Explanation': 11,\n",
    "            'Q-Elab': 12, 'Alternation': 13, 'Narration': 14, 'Confirmation_question': 15, 'Break': 16, 'Sequence' : 17, 'Background': 18}"
   ]
  },
  {
   "cell_type": "code",
   "execution_count": 3,
   "id": "944d2d11",
   "metadata": {},
   "outputs": [],
   "source": [
    "reverse_map = {0: 'Comment', 1:'Contrast', 2:'Correction', 3:'QAP', 4:'Parallel', 5:'Acknowledgement',\n",
    "            6:'Elaboration', 7:'Clarification_question', 8:'Conditional', 9:'Continuation', 10:'Result', 11:'Explanation',\n",
    "            12:'Q-Elab', 13:'Alternation', 14:'Narration', 15:'Conf-Q', 16: 'Break', 17:'Sequence', 18:'Background', -1:'Break'}"
   ]
  },
  {
   "cell_type": "code",
   "execution_count": 4,
   "id": "74830124",
   "metadata": {},
   "outputs": [],
   "source": [
    "amend_map_relations = {'Comment': 0, 'Contrast': 1, 'Correction': 2, 'Question-answer_pair': 3,\n",
    "                       'Acknowledgement': 5, 'Elaboration': 6, 'Clair_elab': 4, 'Conditional': 8, \n",
    "                       'Continuation': 9, 'Result': 10, 'Explanation': 11, 'Alternation': 13, \n",
    "                       'Narration': 14, 'Confirmation_question': 15, 'Break': 16, 'Sequence' : 17}"
   ]
  },
  {
   "cell_type": "code",
   "execution_count": 5,
   "id": "4aceb14d",
   "metadata": {},
   "outputs": [],
   "source": [
    "amend_reverse_map = {0: 'Comment', 1:'Contrast', 2:'Correction', 3:'QAP', 4:'Clair_elab', 5:'Acknowledgement',\n",
    "            6:'Elaboration', 8:'Conditional', 9:'Continuation', 10:'Result', 11:'Explanation',\n",
    "           13:'Alternation', 14:'Narration', 15:'Conf-Q', 16: 'Break', 17:'Sequence'}"
   ]
  },
  {
   "cell_type": "code",
   "execution_count": 6,
   "id": "8fb2deb9",
   "metadata": {},
   "outputs": [],
   "source": [
    "import pickle\n",
    "import json\n",
    "from collections import Counter, defaultdict \n",
    "from sklearn.metrics import precision_recall_fscore_support"
   ]
  },
  {
   "cell_type": "code",
   "execution_count": 7,
   "id": "4ef4ae8a",
   "metadata": {},
   "outputs": [],
   "source": [
    "from sklearn.metrics import classification_report, ConfusionMatrixDisplay, confusion_matrix"
   ]
  },
  {
   "cell_type": "code",
   "execution_count": 8,
   "id": "c0cca52a",
   "metadata": {},
   "outputs": [],
   "source": [
    "home = %pwd"
   ]
  },
  {
   "cell_type": "code",
   "execution_count": 9,
   "id": "37208d8d",
   "metadata": {},
   "outputs": [],
   "source": [
    "dev_path = home + '/DEV_32_bert.json'"
   ]
  },
  {
   "cell_type": "code",
   "execution_count": 10,
   "id": "c39e6e7a",
   "metadata": {},
   "outputs": [
    {
     "data": {
      "text/plain": [
       "'/home/kate/minecraft_corpus/stats/stats_pickles/DEV_32_bert.json'"
      ]
     },
     "execution_count": 10,
     "metadata": {},
     "output_type": "execute_result"
    }
   ],
   "source": [
    "dev_path"
   ]
  },
  {
   "cell_type": "code",
   "execution_count": 32,
   "id": "dc3cc7a3",
   "metadata": {},
   "outputs": [],
   "source": [
    "with open(dev_path, 'r') as jf:\n",
    "    dev_32 = json.load(jf)"
   ]
  },
  {
   "cell_type": "code",
   "execution_count": 33,
   "id": "964bbcd2",
   "metadata": {},
   "outputs": [
    {
     "data": {
      "text/plain": [
       "32"
      ]
     },
     "execution_count": 33,
     "metadata": {},
     "output_type": "execute_result"
    }
   ],
   "source": [
    "len(dev_32)"
   ]
  },
  {
   "cell_type": "markdown",
   "id": "a131a5a3",
   "metadata": {},
   "source": [
    "##step one \n",
    "adds info to edus that is necessary for more second pass (Narration) processing.\n",
    "info: global turn, architect edu index in turn, 1/0 result incoming, edu type\n",
    "returns only narration relations. "
   ]
  },
  {
   "cell_type": "code",
   "execution_count": 13,
   "id": "a544415d",
   "metadata": {},
   "outputs": [],
   "source": [
    "def is_nl(edu):\n",
    "    \"\"\"\n",
    "    if every word in alphanumeric\n",
    "    \"\"\"\n",
    "    nl = 1\n",
    "    words = edu.split(' ')\n",
    "    # print(words)\n",
    "    for word in [w for w in words if w != '']:\n",
    "        if not contains_number(word):\n",
    "            nl = 0\n",
    "            break\n",
    "    return nl\n",
    "\n",
    "def contains_number(string):\n",
    "    return any(char.isdigit() for char in string)"
   ]
  },
  {
   "cell_type": "code",
   "execution_count": 14,
   "id": "b327b16a",
   "metadata": {},
   "outputs": [
    {
     "data": {
      "text/plain": [
       "{'text': 'Mission has started.', 'speaker': 'Builder'}"
      ]
     },
     "execution_count": 14,
     "metadata": {},
     "output_type": "execute_result"
    }
   ],
   "source": [
    "dev_32[0]['edus'][0]"
   ]
  },
  {
   "cell_type": "code",
   "execution_count": 41,
   "id": "77cef624",
   "metadata": {},
   "outputs": [],
   "source": [
    "for game in dev_32_bert:\n",
    "# for game in dev_32:\n",
    "#     rels = game['relations']\n",
    "    rels = game['pred_rels']\n",
    "    edus = game['edus']\n",
    "    new_rels = []\n",
    "\n",
    "    #add turn index for arch and global turn info to all edus\n",
    "    ind_cnt = 0\n",
    "    global_cnt = 0\n",
    "    last_speaker = None\n",
    "    global_index = 0\n",
    "    for edu in edus:\n",
    "        edu['global_index'] = global_index\n",
    "        global_index += 1\n",
    "        speaker = edu['speaker']\n",
    "        if speaker == last_speaker:\n",
    "            edu['turn'] = global_cnt\n",
    "        else:\n",
    "            last_speaker = speaker\n",
    "            global_cnt += 1\n",
    "            edu['turn'] = global_cnt\n",
    "        if speaker == 'Architect':\n",
    "            edu['turn_ind'] = ind_cnt\n",
    "            ind_cnt += 1\n",
    "            edu['type'] = 0\n",
    "        elif speaker == 'Builder':\n",
    "            ind_cnt = 0\n",
    "            #also add type info\n",
    "            if is_nl(edu['text']):\n",
    "                edu['type'] = 1 \n",
    "            else:\n",
    "                edu['type'] = 0\n",
    "        #add field for incoming result information\n",
    "        edu['res'] = 0\n",
    "        edu['ack'] = 0\n",
    "        edu['nar_start'] = 0\n",
    "\n",
    "    #add incoming Result information\n",
    "    for rel in rels:\n",
    "        ind = rel['y']\n",
    "        if rel['type'] == 'Result':\n",
    "            edus[ind]['res'] = 1\n",
    "        if rel['type'] == 'Acknowledgement':\n",
    "            edus[ind]['ack'] = 1\n",
    "        #add first continuation!!!\n",
    "        if rel['x'] == 0 and rel['type'] == 'Continuation':\n",
    "            edus[ind]['nar_start'] = 1\n",
    "\n",
    "        #keep only specified type of relations\n",
    "#         if rel['type'] == 'Narration':\n",
    "#             new_rels.append(rel)         \n",
    "#     game['relations'] = new_rels"
   ]
  },
  {
   "cell_type": "code",
   "execution_count": 18,
   "id": "307af2d0",
   "metadata": {},
   "outputs": [],
   "source": [
    "#dev_32[0]['edus'][4:8]"
   ]
  },
  {
   "cell_type": "code",
   "execution_count": 19,
   "id": "c4c308e5",
   "metadata": {},
   "outputs": [
    {
     "data": {
      "text/plain": [
       "{'x': 1, 'y': 10, 'type': 'Narration'}"
      ]
     },
     "execution_count": 19,
     "metadata": {},
     "output_type": "execute_result"
    }
   ],
   "source": [
    "dev_32[0]['relations'][0]"
   ]
  },
  {
   "cell_type": "code",
   "execution_count": null,
   "id": "e9a02e96",
   "metadata": {},
   "outputs": [],
   "source": [
    "# def get_state(edu):\n",
    "#     \"\"\"\n",
    "#     [asdfsdf]\n",
    "#     \"\"\"\n",
    "#     state = [0,0,0]\n",
    "#     if edu['speaker'] == 'Architect':\n",
    "#         state[0] = 1\n",
    "        \n",
    "#     return state"
   ]
  },
  {
   "cell_type": "code",
   "execution_count": 42,
   "id": "89cae09f",
   "metadata": {},
   "outputs": [
    {
     "name": "stdout",
     "output_type": "stream",
     "text": [
      "no start\n",
      "no start\n",
      "no start\n",
      "no start\n",
      "no start\n",
      "no start\n",
      "no start\n"
     ]
    }
   ],
   "source": [
    "predictions = []\n",
    "# for game in dev_32:\n",
    "for game in dev_32_bert:\n",
    "    if game['id'] not in ['C28-B29-A34', 'C151-B44-A42']:\n",
    "        narration_guesses = []\n",
    "        actions_happening = 0\n",
    "        actions_happened = 0\n",
    "        narr = [0,0]\n",
    "        try:\n",
    "            start = [edu['global_index'] for edu in game['edus'] if edu['nar_start'] == 1][0]\n",
    "        except IndexError:\n",
    "            print('no start')\n",
    "            pass\n",
    "        narr[0] = start\n",
    "        for edu in game['edus'][start+1:]:\n",
    "    #         print(edu['type'],actions_happening, actions_happened)\n",
    "            if edu['type'] == 1 and actions_happening == 0: #if builder is moving\n",
    "                actions_happening = 1\n",
    "            if edu['type'] == 0  and actions_happening == 1: #if someone is talking now\n",
    "                actions_happened = 1\n",
    "            if edu['speaker'] == 'Architect' and edu['res'] == 1 and actions_happened == 1:\n",
    "                narr[1] = edu['global_index']\n",
    "\n",
    "                narration_guesses.append(tuple(narr))\n",
    "                narr = [0,0]\n",
    "                narr[0] = edu['global_index']\n",
    "                actions_happening = 0\n",
    "                actions_happened = 1\n",
    "        predictions.append(narration_guesses)\n"
   ]
  },
  {
   "cell_type": "code",
   "execution_count": 43,
   "id": "95eede12",
   "metadata": {},
   "outputs": [
    {
     "data": {
      "text/plain": [
       "30"
      ]
     },
     "execution_count": 43,
     "metadata": {},
     "output_type": "execute_result"
    }
   ],
   "source": [
    "len(predictions)"
   ]
  },
  {
   "cell_type": "code",
   "execution_count": 44,
   "id": "38a2c3ba",
   "metadata": {},
   "outputs": [
    {
     "data": {
      "text/plain": [
       "[(1, 10),\n",
       " (10, 18),\n",
       " (18, 27),\n",
       " (27, 29),\n",
       " (29, 33),\n",
       " (33, 39),\n",
       " (39, 42),\n",
       " (42, 48),\n",
       " (48, 50)]"
      ]
     },
     "execution_count": 44,
     "metadata": {},
     "output_type": "execute_result"
    }
   ],
   "source": [
    "predictions[0]"
   ]
  },
  {
   "cell_type": "code",
   "execution_count": 23,
   "id": "766bbe1f",
   "metadata": {},
   "outputs": [
    {
     "name": "stdout",
     "output_type": "stream",
     "text": [
      "C54-B13-A30\n",
      "C28-B21-A15\n",
      "C142-B44-A42\n",
      "C6-B12-A26\n",
      "C89-B34-A31\n",
      "C28-B1-A4\n",
      "C148-B42-A4\n",
      "C150-B54-A1\n",
      "C89-B27-A25\n",
      "C151-B4-A40\n",
      "C150-B29-A34\n",
      "C148-B54-A1\n",
      "C142-B36-A35\n",
      "C145-B54-A1\n",
      "C54-B1-A4\n",
      "C151-B29-A1\n",
      "C6-B20-A10\n",
      "C156-B1-A4\n",
      "C89-B35-A44\n",
      "C6-B1-A3\n",
      "C145-B42-A4\n",
      "C54-B19-A36\n",
      "C151-B36-A38\n",
      "C142-B53-A15\n",
      "C28-B13-A30\n",
      "C148-B36-A25\n",
      "C54-B34-A38\n",
      "C145-B35-A15\n",
      "C145-B16-A26\n",
      "C150-B42-A4\n"
     ]
    }
   ],
   "source": [
    "#format gold\n",
    "gold = []\n",
    "for game in dev_32:\n",
    "    narrs = []\n",
    "    if game['id'] not in ['C28-B29-A34', 'C151-B44-A42']:\n",
    "        print(game['id'])\n",
    "        for rel in game['relations']:\n",
    "            narrs.append((rel['x'], rel['y']))\n",
    "        gold.append(narrs)\n",
    "        "
   ]
  },
  {
   "cell_type": "code",
   "execution_count": 24,
   "id": "95498011",
   "metadata": {},
   "outputs": [
    {
     "data": {
      "text/plain": [
       "30"
      ]
     },
     "execution_count": 24,
     "metadata": {},
     "output_type": "execute_result"
    }
   ],
   "source": [
    "len(gold)"
   ]
  },
  {
   "cell_type": "code",
   "execution_count": 25,
   "id": "be61c34f",
   "metadata": {},
   "outputs": [
    {
     "data": {
      "text/plain": [
       "[(1, 10), (10, 27), (27, 29), (29, 33), (48, 50), (33, 39), (39, 42), (42, 48)]"
      ]
     },
     "execution_count": 25,
     "metadata": {},
     "output_type": "execute_result"
    }
   ],
   "source": [
    "gold[0]"
   ]
  },
  {
   "cell_type": "code",
   "execution_count": 45,
   "id": "64f6bc92",
   "metadata": {},
   "outputs": [],
   "source": [
    "#now rearrange\n",
    "gold_narrations = []\n",
    "pred_narrations = []\n",
    "\n",
    "for i, game in enumerate(gold):\n",
    "    preds = predictions[i]\n",
    "    for rel in game:\n",
    "        if rel in preds:\n",
    "            gold_narrations.append(1)\n",
    "            pred_narrations.append(1)\n",
    "        if rel not in preds:\n",
    "            gold_narrations.append(1)\n",
    "            pred_narrations.append(0)\n",
    "    for rel in preds:\n",
    "        if rel not in game:\n",
    "            gold_narrations.append(0)\n",
    "            pred_narrations.append(1)\n",
    "            "
   ]
  },
  {
   "cell_type": "code",
   "execution_count": 27,
   "id": "c52c878e",
   "metadata": {},
   "outputs": [
    {
     "data": {
      "text/plain": [
       "(308, 308)"
      ]
     },
     "execution_count": 27,
     "metadata": {},
     "output_type": "execute_result"
    }
   ],
   "source": [
    "len(gold_narrations), len(pred_narrations)"
   ]
  },
  {
   "cell_type": "code",
   "execution_count": 28,
   "id": "08085810",
   "metadata": {},
   "outputs": [],
   "source": [
    "scores = precision_recall_fscore_support(gold_narrations, pred_narrations, average='binary')"
   ]
  },
  {
   "cell_type": "code",
   "execution_count": 29,
   "id": "4888b643",
   "metadata": {},
   "outputs": [
    {
     "data": {
      "text/plain": [
       "(0.9432624113475178, 0.910958904109589, 0.926829268292683, None)"
      ]
     },
     "execution_count": 29,
     "metadata": {},
     "output_type": "execute_result"
    }
   ],
   "source": [
    "scores"
   ]
  },
  {
   "cell_type": "code",
   "execution_count": null,
   "id": "58e6b06f",
   "metadata": {},
   "outputs": [],
   "source": [
    "#####"
   ]
  },
  {
   "cell_type": "code",
   "execution_count": 46,
   "id": "3de6fe2d",
   "metadata": {},
   "outputs": [],
   "source": [
    "scores = precision_recall_fscore_support(gold_narrations, pred_narrations, average='binary')"
   ]
  },
  {
   "cell_type": "code",
   "execution_count": 47,
   "id": "2ba6402b",
   "metadata": {},
   "outputs": [
    {
     "data": {
      "text/plain": [
       "(0.7252747252747253, 0.678082191780822, 0.7008849557522124, None)"
      ]
     },
     "execution_count": 47,
     "metadata": {},
     "output_type": "execute_result"
    }
   ],
   "source": [
    "scores"
   ]
  },
  {
   "cell_type": "markdown",
   "id": "957ad482",
   "metadata": {},
   "source": [
    "## look at multitask output"
   ]
  },
  {
   "cell_type": "code",
   "execution_count": 30,
   "id": "3298f823",
   "metadata": {},
   "outputs": [],
   "source": [
    "#try for multi\n",
    "#make new dev file\n",
    "multi_preds = home + '/multi_pred_dev.pkl'\n",
    "fi = open(multi_preds, 'rb')\n",
    "# dump information to that file\n",
    "multi = pickle.load(fi)\n",
    "# close the file\n",
    "fi.close()"
   ]
  },
  {
   "cell_type": "code",
   "execution_count": 31,
   "id": "2db05fc7",
   "metadata": {},
   "outputs": [
    {
     "data": {
      "text/plain": [
       "[0, 0, 1, 9, 9]"
      ]
     },
     "execution_count": 31,
     "metadata": {},
     "output_type": "execute_result"
    }
   ],
   "source": [
    "multi[0]"
   ]
  },
  {
   "cell_type": "code",
   "execution_count": 34,
   "id": "11cc9659",
   "metadata": {},
   "outputs": [],
   "source": [
    "dev_32_bert = dev_32"
   ]
  },
  {
   "cell_type": "code",
   "execution_count": 35,
   "id": "27e38422",
   "metadata": {},
   "outputs": [],
   "source": [
    "for i in range(32):\n",
    "    rels = [m for m in multi if m[0] == i]\n",
    "    new_rels = []\n",
    "    for rel in rels:\n",
    "        new = {}\n",
    "        new['x'] = rel[1]\n",
    "        new['y'] = rel[2]\n",
    "        new['type'] = reverse_map[rel[4]]\n",
    "        new_rels.append(new)\n",
    "    dev_32_bert[i]['pred_rels'] = new_rels\n",
    "        "
   ]
  },
  {
   "cell_type": "code",
   "execution_count": 36,
   "id": "2d60332a",
   "metadata": {},
   "outputs": [
    {
     "data": {
      "text/plain": [
       "dict_keys(['id', 'edus', 'relations', 'pred_rels'])"
      ]
     },
     "execution_count": 36,
     "metadata": {},
     "output_type": "execute_result"
    }
   ],
   "source": [
    "dev_32_bert[0].keys()"
   ]
  },
  {
   "cell_type": "code",
   "execution_count": 37,
   "id": "1d67280d",
   "metadata": {},
   "outputs": [
    {
     "data": {
      "text/plain": [
       "{'x': 0, 'y': 1, 'type': 'Continuation'}"
      ]
     },
     "execution_count": 37,
     "metadata": {},
     "output_type": "execute_result"
    }
   ],
   "source": [
    "dev_32_bert[0]['relations'][0]"
   ]
  },
  {
   "cell_type": "code",
   "execution_count": 38,
   "id": "bdbd3416",
   "metadata": {},
   "outputs": [
    {
     "data": {
      "text/plain": [
       "{'x': 0, 'y': 1, 'type': 'Continuation'}"
      ]
     },
     "execution_count": 38,
     "metadata": {},
     "output_type": "execute_result"
    }
   ],
   "source": [
    "dev_32_bert[0]['pred_rels'][0]"
   ]
  },
  {
   "cell_type": "markdown",
   "id": "00441208",
   "metadata": {},
   "source": [
    "??"
   ]
  },
  {
   "cell_type": "code",
   "execution_count": null,
   "id": "1be60874",
   "metadata": {},
   "outputs": [],
   "source": [
    "all_gold_corr = []\n",
    "tp_corr = []\n",
    "fp_corr = []\n",
    "fn_corr = []\n",
    "# nl_l_gold = []\n",
    "for game in dev_32_bert:\n",
    "    pred_corr = [(rel['x'], rel['y']) for rel in game['pred_rels'] if rel['type'] == 'Correction']\n",
    "    gold_corr = [(rel['x'], rel['y']) for rel in game['relations'] if rel['type'] == 'Correction']\n",
    "    edus = game['edus']\n",
    "    game_id = game['id']\n",
    "    for p in pred_corr:\n",
    "        source = edus[p[0]]['speaker'] + ' : ' + edus[p[0]]['text']\n",
    "        target = edus[p[1]]['speaker'] + ' : ' + edus[p[1]]['text']\n",
    "        if edus[p[0]]['speaker'] == 'Builder':\n",
    "            source_type = is_nl(edus[p[0]]['text'])\n",
    "        else:\n",
    "            source_type = 0\n",
    "        if edus[p[1]]['speaker'] == 'Builder':\n",
    "            target_type = is_nl(edus[p[1]]['text'])\n",
    "        else:\n",
    "            target_type = 0\n",
    "        if p in gold_corr:\n",
    "            #tp\n",
    "            tp_corr.append((source, target, source_type, target_type, p[1]-p[0], game_id))\n",
    "        else:\n",
    "            #fp\n",
    "            fp_corr.append((source, target, source_type, target_type, p[1]-p[0], game_id))\n",
    "    for p in gold_corr:\n",
    "        source = edus[p[0]]['speaker'] + ' : ' + edus[p[0]]['text']\n",
    "        target = edus[p[1]]['speaker'] + ' : ' + edus[p[1]]['text']\n",
    "        if edus[p[0]]['speaker'] == 'Builder':\n",
    "            source_type = is_nl(edus[p[0]]['text'])\n",
    "        else:\n",
    "            source_type = 0\n",
    "        if edus[p[1]]['speaker'] == 'Builder':\n",
    "            target_type = is_nl(edus[p[1]]['text'])\n",
    "        else:\n",
    "            target_type = 0\n",
    "        all_gold_corr.append([source, target, source_type, target_type, p[1]-p[0], game_id])\n",
    "        if p not in pred_corr:\n",
    "            fn_corr.append((source, target, source_type, target_type, p[1]-p[0], game_id))\n",
    "#     #NL-L\n",
    "#     for p in gold_corr:\n",
    "#         source = edus[p[0]]['speaker'] + ' : ' + edus[p[0]]['text']\n",
    "#         target = edus[p[1]]['speaker'] + ' : ' + edus[p[1]]['text']\n",
    "#         source_type = is_nl(edus[p[0]]['text'])\n",
    "#         target_type = is_nl(edus[p[1]]['text'])\n",
    "#         if source_type == 1 and target_type == 0:\n",
    "#             nl_l_gold.append((source, target, p[1]-p[0], game_id))\n",
    "        "
   ]
  },
  {
   "cell_type": "code",
   "execution_count": null,
   "id": "fa53d6c7",
   "metadata": {},
   "outputs": [],
   "source": [
    "len(all_gold_corr)"
   ]
  },
  {
   "cell_type": "code",
   "execution_count": null,
   "id": "39ce66cb",
   "metadata": {},
   "outputs": [],
   "source": []
  },
  {
   "cell_type": "code",
   "execution_count": null,
   "id": "6a277dc3",
   "metadata": {},
   "outputs": [],
   "source": [
    "len(pred_corr)"
   ]
  },
  {
   "cell_type": "code",
   "execution_count": null,
   "id": "75c3fbe5",
   "metadata": {},
   "outputs": [],
   "source": [
    "len([g for g in fp_corr if g[2] == 1 and g[3] == 0])"
   ]
  },
  {
   "cell_type": "code",
   "execution_count": null,
   "id": "473a1c39",
   "metadata": {},
   "outputs": [],
   "source": [
    "nl_to_nl_gold = [g for g in all_gold_corr if g[2] == 1 and g[3] == 1]"
   ]
  },
  {
   "cell_type": "code",
   "execution_count": null,
   "id": "c815c4fa",
   "metadata": {},
   "outputs": [],
   "source": [
    "len(nl_to_nl_gold)"
   ]
  },
  {
   "cell_type": "code",
   "execution_count": null,
   "id": "dc994a8f",
   "metadata": {},
   "outputs": [],
   "source": [
    "nl_to_nl_gold[0]"
   ]
  },
  {
   "cell_type": "markdown",
   "id": "eb5d24f0",
   "metadata": {},
   "source": [
    "## see how many NL-NL corrections feature some undoing of a block in previous turns"
   ]
  },
  {
   "cell_type": "code",
   "execution_count": null,
   "id": "ea4a71d7",
   "metadata": {},
   "outputs": [],
   "source": [
    "#measure of target undoing source\n",
    "def undone(source, target):\n",
    "    source_text = source.split(':')[1].split()\n",
    "    target_text = target.split(':')[1].split()\n",
    "    source_ones = []\n",
    "    source_zeros = []\n",
    "    target_ones = []\n",
    "    target_zeros = []\n",
    "    for s in source_text:\n",
    "        if s[0] == '1':\n",
    "            source_ones.append(s[1:])\n",
    "        else:\n",
    "            source_zeros.append(s[1:])\n",
    "    for t in target_text:\n",
    "        if t[0] == '1':\n",
    "            target_ones.append(t[1:])\n",
    "        else:\n",
    "            target_zeros.append(t[1:])\n",
    "#     print(source_ones)\n",
    "#     print(source_zeros)\n",
    "#     print(target_ones)\n",
    "#     print(target_zeros)\n",
    "#     total = len(source_text)\n",
    "    total = len(target_text) #try with target text as a denominator\n",
    "    count = 0\n",
    "    for e in source_ones: \n",
    "        if e in target_zeros:\n",
    "            count += 1\n",
    "    for e in source_zeros:\n",
    "        if e in target_ones:\n",
    "            count += 1\n",
    "    #count is number of target moves that undo source moves\n",
    "#     print(count)\n",
    "#     print(round(count/total, 2))\n",
    "    return round(count/total, 2)\n",
    "    \n",
    "        \n",
    "    "
   ]
  },
  {
   "cell_type": "code",
   "execution_count": null,
   "id": "bf3ab5b9",
   "metadata": {},
   "outputs": [],
   "source": [
    "undone_moves = [undone(rel[0], rel[1]) for rel in nl_to_nl_gold]"
   ]
  },
  {
   "cell_type": "code",
   "execution_count": null,
   "id": "b1cc8912",
   "metadata": {},
   "outputs": [],
   "source": [
    "Counter(undone_moves) #what percentage of the target moves are changes to source moves"
   ]
  },
  {
   "cell_type": "code",
   "execution_count": null,
   "id": "86ace275",
   "metadata": {},
   "outputs": [],
   "source": [
    "Counter(undone_moves) #what percentage of the source moves are changed by the target"
   ]
  },
  {
   "cell_type": "code",
   "execution_count": null,
   "id": "9ee8afb6",
   "metadata": {},
   "outputs": [],
   "source": []
  },
  {
   "cell_type": "code",
   "execution_count": null,
   "id": "4f3181a0",
   "metadata": {},
   "outputs": [],
   "source": [
    "len(tp_corr), len(fp_corr), len(fn_corr)"
   ]
  },
  {
   "cell_type": "code",
   "execution_count": null,
   "id": "471b2c09",
   "metadata": {},
   "outputs": [],
   "source": [
    "#tp NL-L\n",
    "len([g for g in tp_corr if g[2] == 1 and g[3] == 0])"
   ]
  },
  {
   "cell_type": "code",
   "execution_count": null,
   "id": "9a40b914",
   "metadata": {},
   "outputs": [],
   "source": [
    "[g for g in tp_corr if g[2] == 1 and g[3] == 0]"
   ]
  },
  {
   "cell_type": "code",
   "execution_count": null,
   "id": "49daaf0e",
   "metadata": {},
   "outputs": [],
   "source": [
    "[g for g in fn_corr if g[2] == 1 and g[3] == 0]\n"
   ]
  },
  {
   "cell_type": "code",
   "execution_count": null,
   "id": "35ab8ff3",
   "metadata": {},
   "outputs": [],
   "source": [
    "# len([g for g in fp_corr if g[2] == 1 and g[3] == 0])\n",
    "len([g for g in fp_corr])"
   ]
  },
  {
   "cell_type": "code",
   "execution_count": null,
   "id": "29e64a18",
   "metadata": {},
   "outputs": [],
   "source": [
    "for t in fp_corr:\n",
    "    print(t)\n",
    "    print('---------')"
   ]
  },
  {
   "cell_type": "code",
   "execution_count": null,
   "id": "feca90e7",
   "metadata": {},
   "outputs": [],
   "source": [
    "# for t in fn_corr:\n",
    "#     print(t)\n",
    "#     print('---------')"
   ]
  },
  {
   "cell_type": "code",
   "execution_count": null,
   "id": "6baf89ac",
   "metadata": {},
   "outputs": [],
   "source": [
    "# for t in fp_corr:\n",
    "#     print(t)\n",
    "#     print('---------')"
   ]
  },
  {
   "cell_type": "code",
   "execution_count": null,
   "id": "57777abf",
   "metadata": {},
   "outputs": [],
   "source": []
  },
  {
   "cell_type": "markdown",
   "id": "333e6a0c",
   "metadata": {},
   "source": [
    "##step 2 Takes output from second_pass.py and outputs a list of candidates, labels and raw text\n",
    "for bert linear that considers only arch cans that have a non linguistic move between them. "
   ]
  },
  {
   "cell_type": "code",
   "execution_count": null,
   "id": "7568c015",
   "metadata": {},
   "outputs": [],
   "source": [
    "def get_turns(edus):\n",
    "    \"\"\"takes a list of edus from one game and returns\n",
    "    a dict of architect turns that will require skipping when forming candidates\n",
    "    \"\"\"\n",
    "    turns = []\n",
    "    last = 0\n",
    "    for g in edus:\n",
    "        if g['speaker'] == 'Architect':\n",
    "            if g['turn'] != last:\n",
    "                turns.append(g['turn'])\n",
    "                last = g['turn']\n",
    "        elif g['type'] == 0:\n",
    "            turns.append('NL')\n",
    "    # #NB:  gives us a list like this:\n",
    "    # # [2, 4, 'NL', 6, 'NL', 8, 'NL', 10, 12, 13, 14, 'NL', 15, 'NL', 16, 'NL', 18, 'NL']\n",
    "    # #will create a dict below like so: {2: [4], 10: [12, 13, 14], 12: [13, 14], 13: [14]}\n",
    "\n",
    "    # print(turns)\n",
    "    turn_dict = defaultdict(list)\n",
    "    for i, t in enumerate(turns):\n",
    "        if t != 'NL':\n",
    "            n = 1\n",
    "            try:\n",
    "                while turns[i+n] != 'NL':\n",
    "                    turn_dict[t].append(turns[i+n]) \n",
    "                    n+=1\n",
    "            except IndexError:\n",
    "                # print(t)\n",
    "                #NB: this is because it hits the end of the list\n",
    "                continue\n",
    "    return turn_dict"
   ]
  },
  {
   "cell_type": "code",
   "execution_count": null,
   "id": "da49628b",
   "metadata": {},
   "outputs": [],
   "source": [
    "jfile = dev_32"
   ]
  },
  {
   "cell_type": "code",
   "execution_count": null,
   "id": "28f167f0",
   "metadata": {},
   "outputs": [],
   "source": [
    "labels = []\n",
    "raw = []\n",
    "input_text = []\n",
    "MAX_LEN = 16\n",
    "\n",
    "for game_ind, game in enumerate(jfile):\n",
    "\n",
    "    # if game['id'] == 'C58-B1-A44':\n",
    "\n",
    "    raw_text = [j[\"speaker\"][:5] + \": \" + j[\"text\"] for j in jfile[game_ind][\"edus\"] ]\n",
    "    raw += [raw_text]\n",
    "\n",
    "    #make raw text \n",
    "\n",
    "    #get candidates\n",
    "    game_cands = []\n",
    "    edus = game['edus']\n",
    "    turns = get_turns(edus)\n",
    "    #dict of turns to avoid\n",
    "    # print(turns)\n",
    "\n",
    "    ##get edu list\n",
    "    archs = [t for t in edus if t['speaker'] != 'Builder' and t['turn_ind'] <= 3]\n",
    "\n",
    "    ##make relations list for easy access during candidate production.\n",
    "    rels = [(r['x'], r['y']) for r in game['relations']]\n",
    "    # print(rels)\n",
    "\n",
    "    for edu in archs:\n",
    "        num = edu['turn']\n",
    "        avoid = []\n",
    "        #then this will be source\n",
    "        if edu['turn'] in turns.keys():\n",
    "            avoid = turns[edu['turn']]\n",
    "        for target in [elem for elem in archs if elem['turn'] > num and elem['turn'] not in avoid]:\n",
    "            cand = [game_ind, edu['global_index'], target['global_index'], 0, -1, edu['res'], edu['res']]\n",
    "            if (cand[1], cand[2]) in rels: ##NB need to figure out how to find rels that arent captured\n",
    "                cand[3] = 1\n",
    "                cand[4] = 14\n",
    "            game_cands.append(cand)\n",
    "    # print(game_cands)\n",
    "\n",
    "    #reduce cands to those under specified cutoff\n",
    "    if MAX_LEN:\n",
    "        game_cands = [c for c in game_cands if abs(c[2] - c[1]) <= MAX_LEN]\n",
    "    # for ca in game_cands:\n",
    "    #     print(ca[2] - ca[1])\n",
    "\n",
    "    #create input text pairs from candidates\n",
    "\n",
    "    text = [[raw_text[cand[1]], raw_text[cand[2]]] for cand in game_cands]\n",
    "\n",
    "\n",
    "    labels.extend(game_cands)\n",
    "    input_text.extend(text)\n",
    "\n",
    "    print('Game {} has length {} and  has {} candidates'.format(game['id'], len(raw_text), len(game_cands)))\n",
    "\n",
    "# use this to see the distance distributions\n",
    "# distances = [abs(i[2] - i[1]) for i in labels if i[3] == 1]\n",
    "# dist_cnts = Counter(distances)\n",
    "# cntslist = list(dist_cnts.items())\n",
    "# cntslist.sort(key=lambda x:x[0])\n",
    "\n",
    "# for c in cntslist:\n",
    "#     print(c[0], [c[1]])\n",
    "\n",
    "\n",
    "final_outputs = [raw, input_text, labels]"
   ]
  },
  {
   "cell_type": "code",
   "execution_count": null,
   "id": "4097e54b",
   "metadata": {},
   "outputs": [],
   "source": [
    "len(final_outputs[1])"
   ]
  },
  {
   "cell_type": "code",
   "execution_count": null,
   "id": "4c5e8d67",
   "metadata": {},
   "outputs": [],
   "source": [
    "len(final_outputs[2])"
   ]
  },
  {
   "cell_type": "code",
   "execution_count": null,
   "id": "44caf418",
   "metadata": {},
   "outputs": [],
   "source": [
    "Counter([i[6] for i in final_outputs[2]])"
   ]
  },
  {
   "cell_type": "markdown",
   "id": "f25a13f9",
   "metadata": {},
   "source": [
    "[[0, 0, 1, 1, 9, 1],\n",
    "format for attachemnts : game, x, y, gold att, type, predicted attach"
   ]
  },
  {
   "cell_type": "code",
   "execution_count": null,
   "id": "60068900",
   "metadata": {},
   "outputs": [],
   "source": [
    "attach_preds = home + '/bert_dev_attachments.pkl'"
   ]
  },
  {
   "cell_type": "code",
   "execution_count": null,
   "id": "8b94c3e5",
   "metadata": {},
   "outputs": [],
   "source": [
    "fi = open(attach_preds, 'rb')\n",
    "# dump information to that file\n",
    "attach = pickle.load(fi)\n",
    "# close the file\n",
    "fi.close()"
   ]
  },
  {
   "cell_type": "code",
   "execution_count": null,
   "id": "88c7160f",
   "metadata": {},
   "outputs": [],
   "source": [
    "dev_32[0].keys()"
   ]
  },
  {
   "cell_type": "code",
   "execution_count": null,
   "id": "379ab7f4",
   "metadata": {},
   "outputs": [],
   "source": [
    "len(attach)"
   ]
  },
  {
   "cell_type": "code",
   "execution_count": null,
   "id": "84539f83",
   "metadata": {},
   "outputs": [],
   "source": [
    "attach[0]"
   ]
  },
  {
   "cell_type": "markdown",
   "id": "d84d697b",
   "metadata": {},
   "source": [
    "check F1 score"
   ]
  },
  {
   "cell_type": "code",
   "execution_count": null,
   "id": "283fc233",
   "metadata": {},
   "outputs": [],
   "source": [
    "correct = [i[3] for i in attach]\n",
    "predicted = [i[5] for i in attach]"
   ]
  },
  {
   "cell_type": "code",
   "execution_count": null,
   "id": "0d2cb150",
   "metadata": {},
   "outputs": [],
   "source": [
    "precision_recall_fscore_support(correct, predicted, average='binary')"
   ]
  },
  {
   "cell_type": "code",
   "execution_count": null,
   "id": "98d61339",
   "metadata": {},
   "outputs": [],
   "source": [
    "Counter([i[3] for i in attach])"
   ]
  },
  {
   "cell_type": "code",
   "execution_count": null,
   "id": "14aff341",
   "metadata": {},
   "outputs": [],
   "source": [
    "Counter([i[5] for i in attach])"
   ]
  },
  {
   "cell_type": "code",
   "execution_count": null,
   "id": "7ab7e272",
   "metadata": {},
   "outputs": [],
   "source": [
    "Counter([i[5] for i in attach if i[4] == -1])"
   ]
  },
  {
   "cell_type": "code",
   "execution_count": null,
   "id": "72859ce3",
   "metadata": {},
   "outputs": [],
   "source": [
    "Counter([reverse_map[i[4]] for i in attach])"
   ]
  },
  {
   "cell_type": "code",
   "execution_count": null,
   "id": "915dd807",
   "metadata": {},
   "outputs": [],
   "source": [
    "Counter([reverse_map[i[4]] for i in attach if i[5] == 1])"
   ]
  },
  {
   "cell_type": "code",
   "execution_count": null,
   "id": "c8621999",
   "metadata": {},
   "outputs": [],
   "source": [
    "#true positives\n",
    "true_pos = [i for i in attach if i[5] == 1 and i[3] == 1]"
   ]
  },
  {
   "cell_type": "code",
   "execution_count": null,
   "id": "8968f9f4",
   "metadata": {},
   "outputs": [],
   "source": [
    "len(true_pos)"
   ]
  },
  {
   "cell_type": "code",
   "execution_count": null,
   "id": "cd7c0084",
   "metadata": {},
   "outputs": [],
   "source": [
    "#false positives\n",
    "false_pos = [i for i in attach if i[5] == 1 and i[3] == 0]"
   ]
  },
  {
   "cell_type": "code",
   "execution_count": null,
   "id": "536c3f2c",
   "metadata": {},
   "outputs": [],
   "source": [
    "len(false_pos)"
   ]
  },
  {
   "cell_type": "code",
   "execution_count": null,
   "id": "dd1f53ab",
   "metadata": {},
   "outputs": [],
   "source": [
    "#false negatives\n",
    "false_neg = [i for i in attach if i[5] == 0 and i[3] == 1]"
   ]
  },
  {
   "cell_type": "code",
   "execution_count": null,
   "id": "a1927a97",
   "metadata": {},
   "outputs": [],
   "source": [
    "len(false_neg)"
   ]
  },
  {
   "cell_type": "code",
   "execution_count": null,
   "id": "bbd00fe6",
   "metadata": {},
   "outputs": [],
   "source": [
    "#true negatives\n",
    "len([i for i in attach if i[5] == 0 and i[3] == 0])"
   ]
  },
  {
   "cell_type": "code",
   "execution_count": null,
   "id": "2e44a3d7",
   "metadata": {},
   "outputs": [],
   "source": [
    "##ok now see how the relations pan out in false positives"
   ]
  },
  {
   "cell_type": "markdown",
   "id": "56e041f1",
   "metadata": {},
   "source": [
    "Lengths of false positive predictions"
   ]
  },
  {
   "cell_type": "code",
   "execution_count": null,
   "id": "ee4424b2",
   "metadata": {},
   "outputs": [],
   "source": [
    "false_pos[0]"
   ]
  },
  {
   "cell_type": "code",
   "execution_count": null,
   "id": "7f976e99",
   "metadata": {},
   "outputs": [],
   "source": [
    "#make false pos \n",
    "fp_lens = Counter([i[2]-i[1] for i in false_pos])"
   ]
  },
  {
   "cell_type": "code",
   "execution_count": null,
   "id": "8a13a726",
   "metadata": {},
   "outputs": [],
   "source": [
    "for f in fp_lens.items():\n",
    "    print('{} : {}'.format(f[0], f[1]))"
   ]
  },
  {
   "cell_type": "code",
   "execution_count": null,
   "id": "9dead543",
   "metadata": {},
   "outputs": [],
   "source": [
    "import pandas\n",
    "import numpy \n",
    "import matplotlib.pyplot as plt"
   ]
  },
  {
   "cell_type": "markdown",
   "id": "96216d21",
   "metadata": {},
   "source": [
    "True positive counts"
   ]
  },
  {
   "cell_type": "code",
   "execution_count": null,
   "id": "431e47d0",
   "metadata": {},
   "outputs": [],
   "source": [
    "tp_lens = [(i[4], i[2]-i[1]) for i in true_pos]"
   ]
  },
  {
   "cell_type": "code",
   "execution_count": null,
   "id": "91bcf187",
   "metadata": {},
   "outputs": [],
   "source": [
    "tp_lens[:2]"
   ]
  },
  {
   "cell_type": "code",
   "execution_count": null,
   "id": "6107efb6",
   "metadata": {},
   "outputs": [],
   "source": [
    "lens_dict = defaultdict(list)"
   ]
  },
  {
   "cell_type": "code",
   "execution_count": null,
   "id": "4961408f",
   "metadata": {},
   "outputs": [],
   "source": [
    "for f in tp_lens:\n",
    "    lens_dict[f[0]].append(f[1])"
   ]
  },
  {
   "cell_type": "code",
   "execution_count": null,
   "id": "07ce4ad4",
   "metadata": {},
   "outputs": [],
   "source": [
    "for d in lens_dict.keys():\n",
    "    print(reverse_map[d])\n",
    "    print(Counter(lens_dict[d]))\n",
    "    print('------------------')"
   ]
  },
  {
   "cell_type": "code",
   "execution_count": null,
   "id": "02f9f139",
   "metadata": {},
   "outputs": [],
   "source": []
  },
  {
   "cell_type": "markdown",
   "id": "d6f64e28",
   "metadata": {},
   "source": [
    "False Negatives counts"
   ]
  },
  {
   "cell_type": "code",
   "execution_count": null,
   "id": "07fb9bd3",
   "metadata": {},
   "outputs": [],
   "source": [
    "fn_lens = [(i[4], i[2]-i[1]) for i in false_neg]"
   ]
  },
  {
   "cell_type": "code",
   "execution_count": null,
   "id": "9fcb5310",
   "metadata": {},
   "outputs": [],
   "source": [
    "fn_lens[:4]"
   ]
  },
  {
   "cell_type": "code",
   "execution_count": null,
   "id": "807b0408",
   "metadata": {},
   "outputs": [],
   "source": [
    "fn_lens_dict = defaultdict(list)"
   ]
  },
  {
   "cell_type": "code",
   "execution_count": null,
   "id": "561a0698",
   "metadata": {},
   "outputs": [],
   "source": [
    "for f in fn_lens:\n",
    "    fn_lens_dict[f[0]].append(f[1])"
   ]
  },
  {
   "cell_type": "code",
   "execution_count": null,
   "id": "a5899ca7",
   "metadata": {},
   "outputs": [],
   "source": [
    "lens_dict[9]"
   ]
  },
  {
   "cell_type": "code",
   "execution_count": null,
   "id": "41678704",
   "metadata": {},
   "outputs": [],
   "source": [
    "for d in fn_lens_dict.keys():\n",
    "    print(reverse_map[d])\n",
    "    print(Counter(fn_lens_dict[d]))\n",
    "    print('------------------')"
   ]
  },
  {
   "cell_type": "code",
   "execution_count": null,
   "id": "7d25c467",
   "metadata": {},
   "outputs": [],
   "source": []
  },
  {
   "cell_type": "markdown",
   "id": "f31f330a",
   "metadata": {},
   "source": [
    "create json"
   ]
  },
  {
   "cell_type": "code",
   "execution_count": null,
   "id": "ae6ab6df",
   "metadata": {},
   "outputs": [],
   "source": [
    "len(dev_32)"
   ]
  },
  {
   "cell_type": "code",
   "execution_count": null,
   "id": "0f6d326c",
   "metadata": {},
   "outputs": [],
   "source": [
    "attach[0]"
   ]
  },
  {
   "cell_type": "code",
   "execution_count": null,
   "id": "c1249f7c",
   "metadata": {},
   "outputs": [],
   "source": [
    "dev_32[0].keys()"
   ]
  },
  {
   "cell_type": "code",
   "execution_count": null,
   "id": "ad6c6c21",
   "metadata": {},
   "outputs": [],
   "source": [
    "true_pos_dev = []\n",
    "for i in range(32):\n",
    "    new_relations = []\n",
    "    for a in attach:\n",
    "        if a[0] == i and a[5] == 1 and a[3] == 0:\n",
    "            rel = {}\n",
    "            rel['x'] = a[1]\n",
    "            rel['y'] = a[2]\n",
    "#             rel['type'] = reverse_map[a[4]]\n",
    "            rel['type'] = 'false_positive'\n",
    "            new_relations.append(rel)\n",
    "    new_game = {}\n",
    "    new_game['id'] = dev_32[i]['id']\n",
    "    new_game['edus'] = dev_32[i]['edus']\n",
    "    new_game['relations'] = new_relations\n",
    "    true_pos_dev.append(new_game)\n"
   ]
  },
  {
   "cell_type": "code",
   "execution_count": null,
   "id": "b954daa4",
   "metadata": {},
   "outputs": [],
   "source": [
    "len(true_pos_dev)"
   ]
  },
  {
   "cell_type": "code",
   "execution_count": null,
   "id": "f9af4125",
   "metadata": {},
   "outputs": [],
   "source": [
    "for t in true_pos_dev:\n",
    "    print(len(t['relations']))"
   ]
  },
  {
   "cell_type": "code",
   "execution_count": null,
   "id": "94a9b7d2",
   "metadata": {},
   "outputs": [],
   "source": [
    "#save the json \n",
    "save_path = home + '/DEV_32_bert_attach_fp.json'\n",
    "with open(save_path, \"w\") as outfile:\n",
    "    json.dump(true_pos_dev, outfile)"
   ]
  },
  {
   "cell_type": "code",
   "execution_count": null,
   "id": "d4545002",
   "metadata": {},
   "outputs": [],
   "source": []
  },
  {
   "cell_type": "markdown",
   "id": "76425b94",
   "metadata": {},
   "source": [
    "# last function"
   ]
  },
  {
   "cell_type": "code",
   "execution_count": null,
   "id": "0b9b4e7b",
   "metadata": {},
   "outputs": [],
   "source": [
    "len(dev_32)"
   ]
  },
  {
   "cell_type": "code",
   "execution_count": null,
   "id": "7a89768c",
   "metadata": {},
   "outputs": [],
   "source": [
    "len(dev_32[0]['edus'])"
   ]
  },
  {
   "cell_type": "code",
   "execution_count": null,
   "id": "95ee8762",
   "metadata": {},
   "outputs": [],
   "source": [
    "cutoff = 10\n",
    "flat_last = []\n",
    "flat_gold = []\n",
    "for game in dev_32:\n",
    "    #make last\n",
    "    last = [(i, i+1) for i in range(len(game['edus']) - 1)]\n",
    "    #get all rels\n",
    "    rels = [(r['x'], r['y']) for r in game['relations'] if (r['y'] > r['x'] and (r['y'] - r['x']) <= cutoff)]\n",
    "    #merge lists\n",
    "    for l in last:\n",
    "        flat_last.append(1)\n",
    "        if l in rels:\n",
    "            flat_gold.append(1)\n",
    "        else:\n",
    "            flat_gold.append(0)\n",
    "    for r in rels:\n",
    "        if r not in last:\n",
    "            flat_gold.append(1)\n",
    "            flat_last.append(0)"
   ]
  },
  {
   "cell_type": "code",
   "execution_count": null,
   "id": "13b619a7",
   "metadata": {},
   "outputs": [],
   "source": [
    "len(flat_gold), len(flat_last)"
   ]
  },
  {
   "cell_type": "code",
   "execution_count": null,
   "id": "8a2a4785",
   "metadata": {},
   "outputs": [],
   "source": [
    "scores = precision_recall_fscore_support(flat_gold, flat_last, average='binary')"
   ]
  },
  {
   "cell_type": "code",
   "execution_count": null,
   "id": "5248aade",
   "metadata": {},
   "outputs": [],
   "source": [
    "scores"
   ]
  },
  {
   "cell_type": "code",
   "execution_count": null,
   "id": "84340708",
   "metadata": {},
   "outputs": [],
   "source": []
  }
 ],
 "metadata": {
  "kernelspec": {
   "display_name": "Python 3 (ipykernel)",
   "language": "python",
   "name": "python3"
  },
  "language_info": {
   "codemirror_mode": {
    "name": "ipython",
    "version": 3
   },
   "file_extension": ".py",
   "mimetype": "text/x-python",
   "name": "python",
   "nbconvert_exporter": "python",
   "pygments_lexer": "ipython3",
   "version": "3.10.8"
  }
 },
 "nbformat": 4,
 "nbformat_minor": 5
}
