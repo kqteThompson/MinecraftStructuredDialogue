{
 "cells": [
  {
   "cell_type": "code",
   "execution_count": 1,
   "id": "16b12bc2",
   "metadata": {},
   "outputs": [],
   "source": [
    "map_relations = {'Comment':0, 'Contrast':1, 'Correction':2, 'Question-answer_pair':3, 'Acknowledgement':4,'Elaboration':5,\n",
    "                 'Clarification_question':6, 'Conditional':7, 'Continuation':8, 'Result':9, 'Explanation':10, 'Q-Elab':11,\n",
    "                 'Alternation':12, 'Narration':13, 'Confirmation_question':14, 'Sequence':15, 'Break':16}"
   ]
  },
  {
   "cell_type": "code",
   "execution_count": 2,
   "id": "944d2d11",
   "metadata": {},
   "outputs": [],
   "source": [
    "reverse_relations = {0:'Comment', 1:'Contrast', 2:'Correction', 3:'Question-answer_pair', 4:'Acknowledgement',5:'Elaboration',\n",
    "                 6:'Clarification_question', 7:'Conditional', 8:'Continuation', 9:'Result', 10:'Explanation', 11:'Q-Elab',\n",
    "                 12:'Alternation', 13:'Narration', 14:'Confirmation_question', 15:'Sequence', 16:'Break'}"
   ]
  },
  {
   "cell_type": "code",
   "execution_count": 3,
   "id": "8fb2deb9",
   "metadata": {},
   "outputs": [],
   "source": [
    "import pickle\n",
    "import json\n",
    "from collections import Counter, defaultdict \n",
    "from sklearn.metrics import precision_recall_fscore_support,classification_report, ConfusionMatrixDisplay, confusion_matrix"
   ]
  },
  {
   "cell_type": "code",
   "execution_count": 15,
   "id": "c0cca52a",
   "metadata": {},
   "outputs": [],
   "source": [
    "home = %pwd\n",
    "gold_path = home + '/data/TEST_102_bert.json'\n",
    "preds_path = home + '/pickles/scores_multi_d10.pkl'"
   ]
  },
  {
   "cell_type": "code",
   "execution_count": 23,
   "id": "dc3cc7a3",
   "metadata": {},
   "outputs": [],
   "source": [
    "with open(gold_path, 'r') as jf:\n",
    "    test_gold = json.load(jf)"
   ]
  },
  {
   "cell_type": "code",
   "execution_count": 16,
   "id": "964bbcd2",
   "metadata": {},
   "outputs": [],
   "source": [
    "with open(preds_path, 'rb') as f:\n",
    "    test_pred = pickle.load(f)"
   ]
  },
  {
   "cell_type": "code",
   "execution_count": 24,
   "id": "a502dd1e",
   "metadata": {},
   "outputs": [
    {
     "data": {
      "text/plain": [
       "(5338, 102)"
      ]
     },
     "execution_count": 24,
     "metadata": {},
     "output_type": "execute_result"
    }
   ],
   "source": [
    "len(test_pred), len(test_gold)"
   ]
  },
  {
   "cell_type": "markdown",
   "id": "8e004004",
   "metadata": {},
   "source": [
    "combine test pred and test gold info: <br>\n",
    "get speaker, global turn info from gold, and incoming result and continuation info from preds..."
   ]
  },
  {
   "cell_type": "code",
   "execution_count": 18,
   "id": "c7ad39e8",
   "metadata": {},
   "outputs": [
    {
     "data": {
      "text/plain": [
       "[[0, 0, 1, 0, 4], [0, 0, 2, 8, 8], [0, 2, 3, 5, 2], [0, 3, 4, 9, 9]]"
      ]
     },
     "execution_count": 18,
     "metadata": {},
     "output_type": "execute_result"
    }
   ],
   "source": [
    "test_pred[:4]"
   ]
  },
  {
   "cell_type": "code",
   "execution_count": 25,
   "id": "2fa531db",
   "metadata": {},
   "outputs": [],
   "source": [
    "for i, game in enumerate(test_gold):\n",
    "    preds = [[e[1], e[2], e[4]] for e in test_pred if e[0]==i]\n",
    "    pred_rels = []\n",
    "    for p in preds:\n",
    "        pred_rel = {}\n",
    "        pred_rel['x'] = p[0]\n",
    "        pred_rel['y'] = p[1]\n",
    "        pred_rel['type'] = reverse_relations[p[2]]\n",
    "        pred_rels.append(pred_rel)\n",
    "    game['predicted_relations'] = pred_rels"
   ]
  },
  {
   "cell_type": "code",
   "execution_count": 28,
   "id": "15433e8c",
   "metadata": {},
   "outputs": [],
   "source": [
    "#test_gold[0]['predicted_relations']"
   ]
  },
  {
   "cell_type": "markdown",
   "id": "a131a5a3",
   "metadata": {},
   "source": [
    "step one <br>\n",
    "adds info to edus that is necessary for more second pass (Narration) processing.\n",
    "info: global turn, architect edu index in turn, 1/0 result incoming, edu type\n",
    "returns only narration relations. "
   ]
  },
  {
   "cell_type": "code",
   "execution_count": 60,
   "id": "a544415d",
   "metadata": {},
   "outputs": [],
   "source": [
    "def is_nl(edu):\n",
    "    \"\"\"\n",
    "    if every word in alphanumeric\n",
    "    \"\"\"\n",
    "    nl = 1\n",
    "    words = edu.split(' ')\n",
    "    # print(words)\n",
    "    for word in [w for w in words if w != '']:\n",
    "        if not contains_number(word) or len(word)<5:\n",
    "            nl = 0\n",
    "            break\n",
    "    return nl\n",
    "\n",
    "def contains_number(string):\n",
    "    return any(char.isdigit() for char in string)"
   ]
  },
  {
   "cell_type": "code",
   "execution_count": 81,
   "id": "77cef624",
   "metadata": {},
   "outputs": [],
   "source": [
    "for game in test_gold:\n",
    "    # rels = game['predicted_relations']\n",
    "    rels = game['relations']\n",
    "    edus = game['edus']\n",
    "    new_rels = []\n",
    "\n",
    "    #add turn index for arch and global turn info to all edus\n",
    "    ind_cnt = 0\n",
    "    global_cnt = 0\n",
    "    last_speaker = None\n",
    "    global_index = 0\n",
    "    for edu in edus:\n",
    "        edu['global_index'] = global_index\n",
    "        global_index += 1\n",
    "        speaker = edu['speaker']\n",
    "        if speaker == last_speaker:\n",
    "            edu['turn'] = global_cnt\n",
    "        else:\n",
    "            last_speaker = speaker\n",
    "            global_cnt += 1\n",
    "            edu['turn'] = global_cnt\n",
    "        if speaker == 'Architect':\n",
    "            edu['turn_ind'] = ind_cnt\n",
    "            ind_cnt += 1\n",
    "            edu['type'] = 0\n",
    "        elif speaker == 'Builder':\n",
    "            ind_cnt = 0\n",
    "            #also add type info\n",
    "            if is_nl(edu['text']):\n",
    "                edu['type'] = 1 \n",
    "            else:\n",
    "                edu['type'] = 0\n",
    "        #add field for incoming result information\n",
    "        edu['res'] = 0\n",
    "        edu['nar_start'] = 0\n",
    "\n",
    "    #add incoming Result information\n",
    "    for rel in rels:\n",
    "        ind = rel['y']\n",
    "        if rel['type'] == 'Result':\n",
    "            edus[ind]['res'] = 1\n",
    "        # if rel['type'] == 'Acknowledgement':\n",
    "        #     edus[ind]['ack'] = 1\n",
    "        #add first continuation!!!\n",
    "        if rel['x'] == 0 and rel['type'] == 'Continuation':\n",
    "            edus[ind]['nar_start'] = 1\n",
    "\n",
    "        #keep only specified type of relations\n",
    "#         if rel['type'] == 'Narration':\n",
    "#             new_rels.append(rel)         \n",
    "#     game['relations'] = new_rels"
   ]
  },
  {
   "cell_type": "code",
   "execution_count": 82,
   "id": "89cae09f",
   "metadata": {},
   "outputs": [
    {
     "name": "stdout",
     "output_type": "stream",
     "text": [
      "no start\n"
     ]
    }
   ],
   "source": [
    "predictions = []\n",
    "# for game in dev_32:\n",
    "for game in test_gold:\n",
    "        narration_guesses = []\n",
    "        actions_happening = 0\n",
    "        actions_happened = 0\n",
    "        narr = [0,0]\n",
    "        try:\n",
    "            start = [edu['global_index'] for edu in game['edus'] if edu['nar_start'] == 1][0]\n",
    "            narr[0] = start\n",
    "        except IndexError:\n",
    "            print('no start')\n",
    "            pass   \n",
    "        for edu in game['edus'][start+1:]:\n",
    "    #         print(edu['type'],actions_happening, actions_happened)\n",
    "            if edu['type'] == 1 and actions_happening == 0: #if builder is moving\n",
    "                actions_happening = 1\n",
    "            if edu['type'] == 0  and actions_happening == 1: #if someone is talking now\n",
    "                actions_happened = 1\n",
    "            # if edu['speaker'] == 'Architect' and edu['res'] == 1 and actions_happened == 1:\n",
    "            #     narr[1] = edu['global_index']\n",
    "            if edu['speaker'] == 'Architect' and edu['res'] == 1:\n",
    "                narr[1] = edu['global_index']\n",
    "\n",
    "                narration_guesses.append(tuple(narr))\n",
    "                narr = [0,0]\n",
    "                narr[0] = edu['global_index']\n",
    "                actions_happening = 0\n",
    "                actions_happened = 1\n",
    "        predictions.append(narration_guesses)\n"
   ]
  },
  {
   "cell_type": "code",
   "execution_count": 83,
   "id": "95eede12",
   "metadata": {},
   "outputs": [
    {
     "data": {
      "text/plain": [
       "102"
      ]
     },
     "execution_count": 83,
     "metadata": {},
     "output_type": "execute_result"
    }
   ],
   "source": [
    "len(predictions)"
   ]
  },
  {
   "cell_type": "code",
   "execution_count": 74,
   "id": "38a2c3ba",
   "metadata": {},
   "outputs": [
    {
     "data": {
      "text/plain": [
       "[(2, 6), (6, 13)]"
      ]
     },
     "execution_count": 74,
     "metadata": {},
     "output_type": "execute_result"
    }
   ],
   "source": [
    "predictions[0]"
   ]
  },
  {
   "cell_type": "code",
   "execution_count": 84,
   "id": "766bbe1f",
   "metadata": {},
   "outputs": [],
   "source": [
    "#format gold\n",
    "gold = []\n",
    "for game in test_gold:\n",
    "    narrs = []\n",
    "    for rel in game['relations']:\n",
    "        if rel['type'] == 'Narration':\n",
    "            narrs.append((rel['x'], rel['y']))\n",
    "    gold.append(narrs)\n",
    "        "
   ]
  },
  {
   "cell_type": "code",
   "execution_count": 76,
   "id": "95498011",
   "metadata": {},
   "outputs": [
    {
     "data": {
      "text/plain": [
       "102"
      ]
     },
     "execution_count": 76,
     "metadata": {},
     "output_type": "execute_result"
    }
   ],
   "source": [
    "len(gold)"
   ]
  },
  {
   "cell_type": "code",
   "execution_count": 41,
   "id": "be61c34f",
   "metadata": {},
   "outputs": [
    {
     "data": {
      "text/plain": [
       "[(2, 6), (6, 13), (13, 18)]"
      ]
     },
     "execution_count": 41,
     "metadata": {},
     "output_type": "execute_result"
    }
   ],
   "source": [
    "gold[0]"
   ]
  },
  {
   "cell_type": "code",
   "execution_count": 85,
   "id": "64f6bc92",
   "metadata": {},
   "outputs": [],
   "source": [
    "#now rearrange\n",
    "gold_narrations = []\n",
    "pred_narrations = []\n",
    "\n",
    "for i, game in enumerate(gold):\n",
    "    preds = predictions[i]\n",
    "    for rel in game:\n",
    "        if rel in preds:\n",
    "            gold_narrations.append(1)\n",
    "            pred_narrations.append(1)\n",
    "        if rel not in preds:\n",
    "            gold_narrations.append(1)\n",
    "            pred_narrations.append(0)\n",
    "    for rel in preds:\n",
    "        if rel not in game:\n",
    "            gold_narrations.append(0)\n",
    "            pred_narrations.append(1)\n",
    "            "
   ]
  },
  {
   "cell_type": "code",
   "execution_count": 86,
   "id": "c52c878e",
   "metadata": {},
   "outputs": [
    {
     "data": {
      "text/plain": [
       "(785, 785)"
      ]
     },
     "execution_count": 86,
     "metadata": {},
     "output_type": "execute_result"
    }
   ],
   "source": [
    "len(gold_narrations), len(pred_narrations)"
   ]
  },
  {
   "cell_type": "code",
   "execution_count": 87,
   "id": "08085810",
   "metadata": {},
   "outputs": [],
   "source": [
    "scores = precision_recall_fscore_support(gold_narrations, pred_narrations, average='binary')"
   ]
  },
  {
   "cell_type": "code",
   "execution_count": 80,
   "id": "4888b643",
   "metadata": {},
   "outputs": [
    {
     "data": {
      "text/plain": [
       "(0.6873111782477341, 0.603448275862069, 0.6426553672316384, None)"
      ]
     },
     "execution_count": 80,
     "metadata": {},
     "output_type": "execute_result"
    }
   ],
   "source": [
    "#using predicted relations \n",
    "scores"
   ]
  },
  {
   "cell_type": "code",
   "execution_count": 59,
   "id": "2ba6402b",
   "metadata": {},
   "outputs": [
    {
     "data": {
      "text/plain": [
       "(0.9504814305364512, 0.916445623342175, 0.9331532748143146, None)"
      ]
     },
     "execution_count": 59,
     "metadata": {},
     "output_type": "execute_result"
    }
   ],
   "source": [
    "#using gold relations \n",
    "scores"
   ]
  },
  {
   "cell_type": "code",
   "execution_count": 88,
   "id": "e6e29936",
   "metadata": {},
   "outputs": [
    {
     "data": {
      "text/plain": [
       "(0.9577080491132333, 0.9310344827586207, 0.9441829186281103, None)"
      ]
     },
     "execution_count": 88,
     "metadata": {},
     "output_type": "execute_result"
    }
   ],
   "source": [
    "scores"
   ]
  },
  {
   "cell_type": "code",
   "execution_count": null,
   "id": "84340708",
   "metadata": {},
   "outputs": [],
   "source": []
  }
 ],
 "metadata": {
  "kernelspec": {
   "display_name": "Python 3 (ipykernel)",
   "language": "python",
   "name": "python3"
  },
  "language_info": {
   "codemirror_mode": {
    "name": "ipython",
    "version": 3
   },
   "file_extension": ".py",
   "mimetype": "text/x-python",
   "name": "python",
   "nbconvert_exporter": "python",
   "pygments_lexer": "ipython3",
   "version": "3.10.12"
  }
 },
 "nbformat": 4,
 "nbformat_minor": 5
}
